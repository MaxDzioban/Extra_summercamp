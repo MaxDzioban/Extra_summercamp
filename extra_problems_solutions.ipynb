{
 "cells": [
  {
   "cell_type": "markdown",
   "metadata": {},
   "source": [
    "<h1><b>Привіт!</h1>\n",
    "<h2><b>Впродовж лекції ви ознайомилися з функціями в Python. Тому пропоную закодувати 5 додаткових задач, щоб краще зрозуміти цю тему. У разі успішного виконання всіх завдань ви зможете отримати приз - мерч Факультету або Самеркемпу!</b></h2>\n",
    "\n",
    "<h4>До функцій написані доктести. Це є найпростіший спосіб впевнитись, що ваші написані функції працюють коректно :)</h4>\n"
   ]
  },
  {
   "cell_type": "markdown",
   "metadata": {},
   "source": [
    "<h2><i>\n",
    "Задача 1</i><p></h2>\n",
    "<h3>\n",
    "Створити список рядків, які при порядковому виводі в терміналі, утворять пірамідку зірочок (\"*\"). Функція має приймати на вхід тип даних int зі значенням >= 1. У інших випадках - повертати пустний список = [].</p>\n",
    "</h3>\n",
    "<h5>\n",
    "Приклад запуску функції tower_builder(3)\n",
    "<p>[</p>\n",
    "<p>\"  *  \",</p>\n",
    "<p>\" *** \",</p>\n",
    "<p>\"*****\"</p>\n",
    "<p>]<p>\n",
    "</h5>"
   ]
  },
  {
   "cell_type": "code",
   "execution_count": 12,
   "metadata": {},
   "outputs": [],
   "source": [
    "def tower_builder(n_floors):\n",
    "    \"\"\"\n",
    "    >>> tower_builder(3)\n",
    "    ['  *  ', ' *** ', '*****']\n",
    "    >>> tower_builder(4)\n",
    "    ['   *   ', '  ***  ', ' ***** ', '*******']\n",
    "    >>> tower_builder(2)\n",
    "    [' * ', '***']\n",
    "    \"\"\"\n",
    "    tower = []\n",
    "    for i in range(n_floors):\n",
    "        spaces = ' ' * (n_floors - i - 1)\n",
    "        stars = '*' * (2 * i + 1)\n",
    "        tower.append(f'{spaces}{stars}{spaces}')\n",
    "    return tower\n",
    "if __name__ == \"__main__\":\n",
    "    import doctest\n",
    "    doctest.testmod()"
   ]
  },
  {
   "cell_type": "markdown",
   "metadata": {},
   "source": [
    "<h2><i>\n",
    "Задача 2</i><p></h2>\n",
    "<p><h3>Деякі натуральні числа мають властивість - якщо піднести до квадрату кожну цифру цього числа - то вийде те ж саме число. Наприклад, число 89 має таку властивість, бо 8^2 + 9^2 = 89. Ваше завдання розробити функцію що перевіряє яка кількість і які числа з певного проміжку її мають. Функція приймає на вхід 2 натуральні не нульові числа, а повертає спискок таких числел.</p></h3>\n",
    "<p></p>\n",
    "<h3>1, 10 --> [1, 2, 3, 4, 5, 6, 7, 8, 9]<p>\n",
    "1, 100 --> [1, 2, 3, 4, 5, 6, 7, 8, 9, 89]\n",
    "\n",
    "Якщо в діапазоні [a, b] немає таких чисел, функція повинна вивести порожній список.\n",
    "\n",
    "90, 100 --> []</h3>\n"
   ]
  },
  {
   "cell_type": "code",
   "execution_count": 16,
   "metadata": {},
   "outputs": [],
   "source": [
    "def sum_dig_pow(a, b):\n",
    "    \"\"\"\n",
    "    >>> sum_dig_pow(1,100)\n",
    "    [1, 2, 3, 4, 5, 6, 7, 8, 9, 89]\n",
    "    >>> sum_dig_pow(200,1000)\n",
    "    [518, 598]\n",
    "    >>> sum_dig_pow(200,100000)\n",
    "    [518, 598, 1306, 1676, 2427]\n",
    "    \"\"\"\n",
    "    arr = []\n",
    "    for x in range(a, b+1):\n",
    "        char = []\n",
    "        n = 0\n",
    "        for i in str(x):\n",
    "            char.append(int(i) ** (n + 1))\n",
    "            n += 1\n",
    "        if x == sum(char):\n",
    "            arr.append(x)\n",
    "    return arr\n",
    "if __name__ == \"__main__\":\n",
    "    import doctest\n",
    "    doctest.testmod()"
   ]
  },
  {
   "cell_type": "markdown",
   "metadata": {},
   "source": [
    "<h2><i>\n",
    "Задача 3</i><p></h2>\n",
    "\n",
    "<h3><p>\n",
    "Уявіть, що ви хочете зіграти з другом в карти. Вам роздають однакову кількість карт. Ви обидва перевертаєте карту на вершині своїх колод. Хто має карту з вищим значенням, виграє раунд і отримує один бал (якщо карти однакові - ніхто не отримує бал). Після цього дві карти відкидаються, і вони перевертають іншу карту з вершини своєї колоди. Вони роблять це, поки не залишиться жодної карти. deck1 і deck2– це списки, що представляють ваші колоди. Вони заповнені картами, які представлені одним символом. Ранг карт наступний (від найнижчого до найвищого):\n",
    "<p>'2','3','4','5','6','7','8','9','T','J','Q','K','A'</p>\n",
    "\n",
    "<p>Кожна карта може з'являтися в колоді більше одного разу. Визначте, хто виграє, і поверніть, хто виграв і з яким рахунком:</p>\n",
    "\n",
    "<p>\"Player1 wins x to y\", якщо виграє Гравець1; де x – рахунок першого гравця, y – рахунок другого гравця;</p>\n",
    "<p>\"Player2 wins x to y\", якщо виграє Гравець2; де x – рахунок другого гравця, y – рахунок першого гравця;</p>\n",
    "<p>\"Tie\",тобто \"Нічия\" якщо рахунок зрівняється в кінці гри.</p>\n",
    "</h3><p>"
   ]
  },
  {
   "cell_type": "code",
   "execution_count": 22,
   "metadata": {},
   "outputs": [],
   "source": [
    "def winner(deck1, deck2):\n",
    "    \"\"\"\n",
    "    >>> winner([\"A\", \"7\", \"8\"], [\"K\", \"5\", \"9\"])\n",
    "    'Player1 wins 2 to 1'\n",
    "    >>> winner([\"T\"], [\"T\"])\n",
    "    'Tie'\n",
    "    >>> winner([\"T\", \"8\"], [\"T\", \"9\"])\n",
    "    'Player2 wins 1 to 0'\n",
    "    \"\"\"\n",
    "    deck = ['2','3','4','5','6','7','8','9','T','J','Q','K','A']\n",
    "    pl1 = 0\n",
    "    pl2 = 0\n",
    "    for i in range(len(deck1)):\n",
    "        if deck.index(deck1[i]) > deck.index(deck2[i]):\n",
    "            pl1 += 1\n",
    "        elif deck.index(deck1[i]) < deck.index(deck2[i]):\n",
    "            pl2 += 1\n",
    "        else:\n",
    "            continue\n",
    "    if pl1 > pl2:\n",
    "        return \"Player1 wins \" + str(pl1) + \" to \" + str(pl2)\n",
    "    elif pl2 > pl1:\n",
    "        return \"Player2 wins \" + str(pl2) + \" to \" + str(pl1)\n",
    "    else:\n",
    "        return \"Tie\"\n",
    "if __name__ == \"__main__\":\n",
    "    import doctest\n",
    "    doctest.testmod()"
   ]
  },
  {
   "cell_type": "markdown",
   "metadata": {},
   "source": [
    "<h2><p>\n",
    "Задача 4\n",
    "</p><h2>\n",
    "<h3><p>\n",
    "Один із найстаріших стособів зашифрувати повідомлення - це використати шифр Цезаря, котрий змінює кожну букву повідомлення на наступну чи попередню в алфавіті. Ваше завдання - імплементувати функцію decrypt_message що замінює всі літери в повідомленні попередньою буквою, щоб дешифрувати повідомлення.</h3></p>"
   ]
  },
  {
   "cell_type": "code",
   "execution_count": 18,
   "metadata": {},
   "outputs": [],
   "source": [
    "def decrypt_message(text)->str:\n",
    "    \"\"\"\n",
    "    str -> str\n",
    "    Replace all letters in string with previous letters in aplhabet. If argument isn't a string\n",
    "    function should return None.\n",
    "\n",
    "    >>> decrypt_message(\"Sfwfohf jt b ejti uibu ubtuft cftu xifo tfswfe dpme.\")\n",
    "    'Revenge is a dish that tastes best when served cold.'\n",
    "    >>> decrypt_message(\"Ofwfs ibuf zpvs fofnjft. Ju bggfdut zpvs kvehnfou.\")\n",
    "    'Never hate your enemies. It affects your judgment.'\n",
    "    >>> decrypt_message(2015)\n",
    "    \"\"\"\n",
    "    if not isinstance(text, str):\n",
    "        return None\n",
    "\n",
    "    decrypted_text = ''\n",
    "    for char in text:\n",
    "        if char.isalpha():\n",
    "            decrypted_char = chr(ord(char) - 1)\n",
    "        else:\n",
    "            decrypted_char = char\n",
    "        decrypted_text += decrypted_char\n",
    "    return str(decrypted_text)\n",
    "if __name__ == \"__main__\":\n",
    "    import doctest\n",
    "    doctest.testmod()\n"
   ]
  },
  {
   "cell_type": "markdown",
   "metadata": {},
   "source": [
    "<h2><p>\n",
    "Задача 5\n",
    "</p><h2>\n",
    "<h3><p>Функція polynomials_multiply повинна приймати два списки коефіцієнтів двох поліномів (многочленів) та повертати список коефіцієнтів полінома, який є результатом множення вхідних поліномів. В доктестах наведено детальний опис роботи:<h3></p>"
   ]
  },
  {
   "cell_type": "code",
   "execution_count": 6,
   "metadata": {},
   "outputs": [],
   "source": [
    "def polynomials_multiply(polynom1, polynom2):\n",
    "    \"\"\"\n",
    "    # (2x-4)*(3x+5) == 6x^2 -2x - 20\n",
    "    # (2x)*(3x) == 6\n",
    "    # (2x^2-4)*(3x^3+2x) == (6x^5-8x^3-8x)\n",
    "    >>> polynomials_multiply([2], [3])\n",
    "    [6]\n",
    "    >>> polynomials_multiply([2, -4], [3, 5])\n",
    "    [6, -2, -20]\n",
    "    >>> polynomials_multiply([2, 0, -4], [3, 0, 2, 0])\n",
    "    [6, 0, -8, 0, -8, 0]\n",
    "    \"\"\"\n",
    "    result_length = len(polynom1) + len(polynom2) - 1\n",
    "    result = [0] * result_length\n",
    "\n",
    "    for i, coeff1 in enumerate(polynom1):\n",
    "        for j, coeff2 in enumerate(polynom2):\n",
    "            result[i + j] += coeff1 * coeff2\n",
    "\n",
    "    return result\n",
    "if __name__ == \"__main__\":\n",
    "    import doctest\n",
    "    doctest.testmod()\n"
   ]
  }
 ],
 "metadata": {
  "kernelspec": {
   "display_name": "Python 3",
   "language": "python",
   "name": "python3"
  },
  "language_info": {
   "codemirror_mode": {
    "name": "ipython",
    "version": 3
   },
   "file_extension": ".py",
   "mimetype": "text/x-python",
   "name": "python",
   "nbconvert_exporter": "python",
   "pygments_lexer": "ipython3",
   "version": "3.12.4"
  }
 },
 "nbformat": 4,
 "nbformat_minor": 2
}
